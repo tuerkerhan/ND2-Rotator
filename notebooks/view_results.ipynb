{
 "cells": [
  {
   "cell_type": "code",
   "execution_count": null,
   "id": "33be438c-4a23-4ae9-94e5-770e29138376",
   "metadata": {},
   "outputs": [],
   "source": [
    "import ipywidgets as widgets\n",
    "import matplotlib.pyplot as plt\n",
    "import mpl_interactions.ipyplot as iplt\n",
    "from nd2reader import ND2Reader\n",
    "import pandas as pd\n",
    "from IPython.display import display\n",
    "import sqlite3\n",
    "import numpy as np\n",
    "from skimage.segmentation import find_boundaries\n",
    "import sys\n",
    "sys.path.append('/project/ag-moonraedler/MAtienza/celltracker')\n",
    "from celltracker import functions\n",
    "from tqdm import tqdm\n",
    "from collections.abc import Iterable\n",
    "import trackpy as tp\n",
    "from skimage.segmentation import find_boundaries\n",
    "import os\n",
    "import json\n",
    "from cellpose import models\n",
    "from cellpose.io import logger_setup \n",
    "from skimage.morphology import binary_erosion\n",
    "from skimage.io import imread\n",
    "import matplotlib.collections as collections\n",
    "from celltracker.classify import cp\n",
    "from viewer import notebook_viewer as nbv\n",
    "%matplotlib ipympl"
   ]
  },
  {
   "cell_type": "code",
   "execution_count": null,
   "id": "ee1308d5-3a41-4724-a6dd-3efe45aa7efe",
   "metadata": {},
   "outputs": [],
   "source": [
    "#Path to folder in which the experiment is contained\n",
    "data_path = '/project/ag-moonraedler/MAtienza/UNikon_gradients_27_05_22/'\n",
    "\n",
    "#Name of main time-lapse experiment file \n",
    "nd2_file = 'time_lapse001.nd2'\n",
    "\n",
    "#Name of file containing patterns\n",
    "lanes_file = 'patterns.nd2'\n",
    "\n",
    "#Path to folder where results should be output\n",
    "path_out = '/project/ag-moonraedler/MAtienza/UNikon_gradients_27_05_22/extraction/'\n",
    "\n",
    "#Path to database\n",
    "db_path = '/project/ag-moonraedler/MAtienza/database/onedcellmigration.db'"
   ]
  },
  {
   "cell_type": "code",
   "execution_count": null,
   "id": "e3699570-b8be-40d5-b044-66d0b0b84a3d",
   "metadata": {},
   "outputs": [],
   "source": [
    "plt.close('all')\n",
    "viewer = nbv.ResultsViewer(data_path+nd2_file, path_out)"
   ]
  }
 ],
 "metadata": {
  "kernelspec": {
   "display_name": "Miguel Cellpose",
   "language": "python",
   "name": "cellpose"
  },
  "language_info": {
   "codemirror_mode": {
    "name": "ipython",
    "version": 3
   },
   "file_extension": ".py",
   "mimetype": "text/x-python",
   "name": "python",
   "nbconvert_exporter": "python",
   "pygments_lexer": "ipython3",
   "version": "3.8.12"
  }
 },
 "nbformat": 4,
 "nbformat_minor": 5
}
