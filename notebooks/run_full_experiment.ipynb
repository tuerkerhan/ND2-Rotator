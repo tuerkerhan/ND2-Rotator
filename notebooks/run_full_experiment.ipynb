{
 "cells": [
  {
   "cell_type": "markdown",
   "metadata": {},
   "source": [
    "This Notebook is a template to extract one-dimensional cell migration data from a full experiment"
   ]
  },
  {
   "cell_type": "code",
   "execution_count": 10,
   "metadata": {},
   "outputs": [],
   "source": [
    "##Import all necessary libraries\n",
    "import sys\n",
    "import os\n",
    "import time\n",
    "sys.path.append('/project/ag-moonraedler/MAtienza/celltracker')\n",
    "#sys.path.append('/home/m/Miguel.Atienza/celltracker')\n",
    "from celltracker.pipeline import Track\n",
    "from celltracker.pipeline import run_pipeline\n",
    "from nd2reader import ND2Reader\n",
    "from datetime import datetime\n",
    "from celltracker.database import Database\n",
    "import numpy as np\n",
    "from viewer import notebook_viewer as nbv\n",
    "import matplotlib.pyplot as plt\n",
    "from tqdm import tqdm\n",
    "import logging\n",
    "import traceback\n",
    "from skimage.io import imread\n",
    "%matplotlib ipympl\n",
    "%load_ext autoreload\n",
    "%autoreload"
   ]
  },
  {
   "cell_type": "code",
   "execution_count": 11,
   "metadata": {},
   "outputs": [],
   "source": [
    "#Path to folder in which the experiment is contained\n",
    "data_path = './'\n",
    "\n",
    "#Name of main time-lapse experiment file \n",
    "nd2_file = 'timelapse.nd2'\n",
    "\n",
    "#Name of file containing patterns\n",
    "lanes_file = 'pattern.nd2'\n",
    "\n",
    "#Path to folder where results should be output (Make sure that this directory exists before running the pipeline)\n",
    "path_out = './extraction/'\n",
    "\n",
    "#Path to database\n",
    "db_path = '/project/ag-moonraedler/MAtienza/database/onedcellmigration.db'"
   ]
  },
  {
   "cell_type": "code",
   "execution_count": null,
   "metadata": {},
   "outputs": [],
   "source": [
    "#Check and optimise the lane detection\n",
    "laneviewer = nbv.LaneViewer(data_path+lanes_file)"
   ]
  },
  {
   "cell_type": "code",
   "execution_count": 4,
   "metadata": {},
   "outputs": [],
   "source": [
    "#Save optimal values\n",
    "lane_distance = laneviewer.ld.value\n",
    "lane_low_clip, lane_high_clip = laneviewer.clip.value\n",
    "plt.close('all')"
   ]
  },
  {
   "cell_type": "code",
   "execution_count": 3,
   "metadata": {},
   "outputs": [
    {
     "data": {
      "application/vnd.jupyter.widget-view+json": {
       "model_id": "9398f85d8e024409b45b6745e7be7063",
       "version_major": 2,
       "version_minor": 0
      },
      "text/plain": [
       "GridspecLayout(children=(Canvas(header_visible=False, layout=Layout(grid_area='widget001'), toolbar=Toolbar(to…"
      ]
     },
     "metadata": {},
     "output_type": "display_data"
    }
   ],
   "source": [
    "#Check trackpy and optimise\n",
    "tpviewer = nbv.TpViewer(data_path+nd2_file)\n",
    "#batch in blue and link in red"
   ]
  },
  {
   "cell_type": "code",
   "execution_count": null,
   "metadata": {},
   "outputs": [],
   "source": [
    "min_mass, max_travel, track_memory, diameter, min_frames = tpviewer.min_mass.value, tpviewer.max_travel.value, tpviewer.track_memory.value, tpviewer.diameter.value, tpviewer.min_frames.value"
   ]
  },
  {
   "cell_type": "code",
   "execution_count": 6,
   "metadata": {},
   "outputs": [
    {
     "data": {
      "application/vnd.jupyter.widget-view+json": {
       "model_id": "596be49f991f4930871854f71aa08c92",
       "version_major": 2,
       "version_minor": 0
      },
      "text/plain": [
       "GridspecLayout(children=(Canvas(header_visible=False, layout=Layout(grid_area='widget001'), toolbar=Toolbar(to…"
      ]
     },
     "metadata": {},
     "output_type": "display_data"
    }
   ],
   "source": [
    "#Now check and optimise cellpose\n",
    "cellposeviewer = nbv.CellposeViewer(data_path+nd2_file)"
   ]
  },
  {
   "cell_type": "code",
   "execution_count": 4,
   "metadata": {},
   "outputs": [],
   "source": [
    "cyto_diameter=cellposeviewer.diameter.value\n",
    "flow_threshold=cellposeviewer.flow_threshold.value\n",
    "mask_threshold=cellposeviewer.mask_threshold.value\n",
    "normalize=True"
   ]
  },
  {
   "cell_type": "code",
   "execution_count": 5,
   "metadata": {},
   "outputs": [],
   "source": [
    "##Access metadata from nd2 file\n",
    "f = ND2Reader(os.path.join(data_path, nd2_file))\n",
    "metadata = f.metadata"
   ]
  },
  {
   "cell_type": "code",
   "execution_count": 8,
   "metadata": {},
   "outputs": [],
   "source": [
    "#Fill in data about experiment\n",
    "Experiment_data = {\n",
    "    #'Experiment_id':,\n",
    "    'Path':data_path,\n",
    "    'Date': metadata['date'].strftime('%d-%m-%Y %H:%m'),\n",
    "    'celltype': 'MDA-MB-231',\n",
    "    'microscope': 'UNikon',\n",
    "    'nframes': f.sizes['t'],\n",
    "    'nfov': f.sizes['v'],\n",
    "    'channels': str(metadata['channels']),\n",
    "    'fpm': f.sizes['t']/(1e-3*(f.metadata['events'][-1]['time'] - f.metadata['events'][0]['time'])/60),\n",
    "    'pixels/um': 1.538,\n",
    "    'bitsperpixel': 16,\n",
    "    'Author': 'Miguel Atienza'}"
   ]
  },
  {
   "cell_type": "code",
   "execution_count": 9,
   "metadata": {},
   "outputs": [
    {
     "data": {
      "text/plain": [
       "2.5614553594607625"
      ]
     },
     "execution_count": 9,
     "metadata": {},
     "output_type": "execute_result"
    }
   ],
   "source": [
    "1/Experiment_data['fpm']"
   ]
  },
  {
   "cell_type": "code",
   "execution_count": 10,
   "metadata": {},
   "outputs": [
    {
     "name": "stdout",
     "output_type": "stream",
     "text": [
      "6\n"
     ]
    }
   ],
   "source": [
    "#Initiate a Database object to access and load data into the database\n",
    "db = Database(db_path)\n",
    "#experiment_id = db.add_experiment(Experiment_data)\n",
    "experiment_id=6\n",
    "print(experiment_id)"
   ]
  },
  {
   "cell_type": "code",
   "execution_count": 56,
   "metadata": {},
   "outputs": [],
   "source": [
    "#Get the number of fields of view in the experiment and start a timer\n",
    "nfov = f.sizes['v']\n",
    "start_time = time.time()\n",
    "fovs = list(range(0, nfov))"
   ]
  },
  {
   "cell_type": "code",
   "execution_count": 12,
   "metadata": {},
   "outputs": [],
   "source": [
    "#Choose whether results should be saved to sql database or not\n",
    "sql=False"
   ]
  },
  {
   "cell_type": "code",
   "execution_count": null,
   "metadata": {},
   "outputs": [],
   "source": [
    "##You can change the arguments to use values from calibration and etc...\n",
    "run_pipeline(data_path, nd2_file, lanes_file, path_out, frame_indices, manual=False, fovs=None, sql=False, lane_distance=30,\n",
    "lane_low_clip=0, lane_high_clip=2000, min_mass=2.65e5, max_travel=15, track_memory=15, diameter=15, min_frames=10, cyto_diameter=29, \n",
    "flow_threshold=1.25, mask_threshold=0, pretrained_model='mdamb231', use_existing_parameters=False)"
   ]
  }
 ],
 "metadata": {
  "kernelspec": {
   "display_name": "Celltracker",
   "language": "python",
   "name": "celltracker"
  },
  "language_info": {
   "codemirror_mode": {
    "name": "ipython",
    "version": 3
   },
   "file_extension": ".py",
   "mimetype": "text/x-python",
   "name": "python",
   "nbconvert_exporter": "python",
   "pygments_lexer": "ipython3",
   "version": "3.8.12"
  }
 },
 "nbformat": 4,
 "nbformat_minor": 4
}
